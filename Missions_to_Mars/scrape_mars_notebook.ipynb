{
 "cells": [
  {
   "cell_type": "code",
   "execution_count": 1,
   "id": "276b8408-f821-4847-afe8-90516f8eea8e",
   "metadata": {
    "tags": []
   },
   "outputs": [],
   "source": [
    "# Import dependencies\n",
    "import pandas as pd\n",
    "import requests\n",
    "from splinter import Browser\n",
    "from bs4 import BeautifulSoup\n",
    "from webdriver_manager.chrome import ChromeDriverManager"
   ]
  },
  {
   "cell_type": "code",
   "execution_count": 2,
   "id": "e88c629d-bb90-402a-b98d-c0ef0175fa4f",
   "metadata": {
    "tags": []
   },
   "outputs": [],
   "source": [
    "def init_browser():\n",
    "    '''Launches a Chrome browser using splinter and ChromeDriverManager'''\n",
    "    executable_path = {'executable_path': ChromeDriverManager().install()}\n",
    "    return Browser('chrome', **executable_path, headless=True)"
   ]
  },
  {
   "cell_type": "code",
   "execution_count": 3,
   "id": "9d390a9b-3c5d-4405-a18f-4da8499635bd",
   "metadata": {
    "tags": []
   },
   "outputs": [],
   "source": [
    "def browse(url):\n",
    "    '''Function to scrape a single webpage'''\n",
    "    browser = init_browser()\n",
    "    browser.visit(url)\n",
    "\n",
    "    # Scrape html code\n",
    "    html = browser.html    \n",
    "\n",
    "    # Create BeautifulSoup object; parse with 'html.parser'\n",
    "    soup = BeautifulSoup(html, \"html.parser\")\n",
    "    \n",
    "    # Quit browser\n",
    "    browser.quit()\n",
    "    \n",
    "    return soup"
   ]
  },
  {
   "cell_type": "code",
   "execution_count": 4,
   "id": "57efea1f-1e87-400d-8356-133a0f972935",
   "metadata": {},
   "outputs": [],
   "source": [
    "# Create an empty dictionary to hold web scraping resutls\n",
    "mars_scrape_dict = {}"
   ]
  },
  {
   "cell_type": "markdown",
   "id": "e405ec58-58e4-423f-828f-97a5e7fd59b5",
   "metadata": {},
   "source": [
    "## NASA Mars News"
   ]
  },
  {
   "cell_type": "code",
   "execution_count": 5,
   "id": "153bf4de-52a1-4329-9274-70f5ca1c2cfe",
   "metadata": {
    "tags": []
   },
   "outputs": [
    {
     "name": "stderr",
     "output_type": "stream",
     "text": [
      "\n",
      "\n",
      "====== WebDriver manager ======\n",
      "Current google-chrome version is 94.0.4606\n",
      "Get LATEST driver version for 94.0.4606\n",
      "Get LATEST driver version for 94.0.4606\n",
      "Trying to download new driver from https://chromedriver.storage.googleapis.com/94.0.4606.61/chromedriver_mac64.zip\n",
      "Driver has been saved in cache [/Users/mochi/.wdm/drivers/chromedriver/mac64/94.0.4606.61]\n"
     ]
    }
   ],
   "source": [
    "# URL for NASA Mars News Site \n",
    "nasa_url = \"https://mars.nasa.gov/news/?page=0&per_page=40&order=publish_date+desc%2Ccreated_at+desc&search=&category=19%2C165%2C184%2C204&blank_scope=Latest\"\n",
    "\n",
    "# Scrape html of nasa_url\n",
    "nasa_soup = browse(nasa_url)"
   ]
  },
  {
   "cell_type": "code",
   "execution_count": 6,
   "id": "d656be1a-5c8d-4af6-ac62-6b3fbc3769a1",
   "metadata": {
    "tags": []
   },
   "outputs": [],
   "source": [
    "# Find title and teaser text of first article and store them to variables\n",
    "first_article_title = nasa_soup.find(\"div\", class_=\"bottom_gradient\").text\n",
    "first_article_teaser = nasa_soup.find(\"div\", class_=\"article_teaser_body\").text\n",
    "\n",
    "# Append the article variables to mars_scrape_dict\n",
    "mars_scrape_dict[\"article_title\"] = first_article_title\n",
    "mars_scrape_dict[\"article_teaser\"] = first_article_teaser"
   ]
  },
  {
   "cell_type": "markdown",
   "id": "dd0a09d2-6570-4c16-8e68-a4ee2f16829b",
   "metadata": {},
   "source": [
    "## JPL Mars Space Images - Featured Image"
   ]
  },
  {
   "cell_type": "code",
   "execution_count": 8,
   "id": "e6452abd-2f8f-4fa9-b5f6-20d869390f02",
   "metadata": {
    "tags": []
   },
   "outputs": [
    {
     "name": "stderr",
     "output_type": "stream",
     "text": [
      "\n",
      "\n",
      "====== WebDriver manager ======\n",
      "Current google-chrome version is 94.0.4606\n",
      "Get LATEST driver version for 94.0.4606\n",
      "Driver [/Users/mochi/.wdm/drivers/chromedriver/mac64/94.0.4606.61/chromedriver] found in cache\n"
     ]
    }
   ],
   "source": [
    "# URL to JPL Mars image website\n",
    "jpl_url = \"https://data-class-jpl-space.s3.amazonaws.com/JPL_Space/index.html\"\n",
    "\n",
    "# Scrape jpl_url\n",
    "jpl_soup = browse(jpl_url)"
   ]
  },
  {
   "cell_type": "code",
   "execution_count": 9,
   "id": "dc5f44f3-5031-43ca-ad9a-e178277f4592",
   "metadata": {
    "tags": []
   },
   "outputs": [],
   "source": [
    "# Scrape the link to the featured image\n",
    "jpl_image_link = jpl_soup.find(\"a\", class_=\"showimg fancybox-thumbs\")[\"href\"]\n",
    "\n",
    "# Assign the full image url to a variable\n",
    "featured_image_url = f\"https://data-class-jpl-space.s3.amazonaws.com/JPL_Space/{jpl_image_link}\""
   ]
  },
  {
   "cell_type": "code",
   "execution_count": 10,
   "id": "854fc9ce-c222-4d4b-814c-2b016872f523",
   "metadata": {
    "tags": []
   },
   "outputs": [],
   "source": [
    "mars_scrape_dict[\"featured_image\"] = featured_image_url"
   ]
  },
  {
   "cell_type": "markdown",
   "id": "611d1827-4223-4c3d-9c4e-1e6bc916abcb",
   "metadata": {},
   "source": [
    "## Mars Facts"
   ]
  },
  {
   "cell_type": "code",
   "execution_count": 12,
   "id": "3ecea8bf-7348-4c7e-a9f2-60f162bdd6f3",
   "metadata": {
    "tags": []
   },
   "outputs": [],
   "source": [
    "# Scrape url using pandas and assign scraped tables to a variable\n",
    "space_facts_url = \"https://space-facts.com/mars/\"\n",
    "tables = pd.read_html(space_facts_url)"
   ]
  },
  {
   "cell_type": "code",
   "execution_count": 13,
   "id": "d23dd55b-5af3-4562-bcc7-a470d0e0b08b",
   "metadata": {
    "tags": []
   },
   "outputs": [],
   "source": [
    "# Create a dataframe from the first table\n",
    "stats_table_df = pd.DataFrame(tables[0])\n",
    "\n",
    "# Rename the columns\n",
    "stats_table_df = stats_table_df.rename(columns={0:\"\", 1:\"values\"}, inplace=False)"
   ]
  },
  {
   "cell_type": "code",
   "execution_count": 14,
   "id": "3b2a8d9a-656b-42e0-8ed1-6639d9791ecb",
   "metadata": {
    "tags": []
   },
   "outputs": [],
   "source": [
    "# Set the index to the first column\n",
    "stats_table_new_index_df = stats_table_df.set_index(keys=\"\")"
   ]
  },
  {
   "cell_type": "code",
   "execution_count": 15,
   "id": "21afa24c-d5cd-4cd9-b8dc-7cce1449fad3",
   "metadata": {
    "tags": []
   },
   "outputs": [],
   "source": [
    "# Generate html code for the table and remove \"\\n\" from the code\n",
    "stats_table_html = stats_table_new_index_df.to_html()"
   ]
  },
  {
   "cell_type": "code",
   "execution_count": 16,
   "id": "217ed447-c63b-446a-b6a1-ad9b883bb0f0",
   "metadata": {
    "tags": []
   },
   "outputs": [],
   "source": [
    "stats_table_html = stats_table_html.replace(\"\\n\", \"\")"
   ]
  },
  {
   "cell_type": "code",
   "execution_count": 17,
   "id": "ba3ac088-1ba8-4a02-aca3-fcccaa5ae6d8",
   "metadata": {},
   "outputs": [],
   "source": [
    "# Append the table to mars_scrape_dict\n",
    "mars_scrape_dict[\"table_html\"] = stats_table_html"
   ]
  },
  {
   "cell_type": "markdown",
   "id": "99307262-2c43-4301-8009-ec534888fa4e",
   "metadata": {},
   "source": [
    "## Mars Hemispheres"
   ]
  },
  {
   "cell_type": "code",
   "execution_count": 19,
   "id": "bf48fc93-3411-4608-a47c-0b00ab7b6e31",
   "metadata": {
    "tags": []
   },
   "outputs": [
    {
     "name": "stderr",
     "output_type": "stream",
     "text": [
      "\n",
      "\n",
      "====== WebDriver manager ======\n",
      "Current google-chrome version is 94.0.4606\n",
      "Get LATEST driver version for 94.0.4606\n",
      "Driver [/Users/mochi/.wdm/drivers/chromedriver/mac64/94.0.4606.61/chromedriver] found in cache\n"
     ]
    }
   ],
   "source": [
    "# USGS Mars website url\n",
    "usgs_url = \"https://astrogeology.usgs.gov/search/results?q=hemisphere+enhanced&k1=target&v1=Mars\"\n",
    "\n",
    "# Initiate browswer instance\n",
    "usgs_browser = init_browser()\n",
    "usgs_browser.visit(usgs_url)"
   ]
  },
  {
   "cell_type": "code",
   "execution_count": 20,
   "id": "030a7858-cb02-4c98-8d17-121360b5a5ae",
   "metadata": {
    "tags": []
   },
   "outputs": [],
   "source": [
    "# Scrape image Mars hemispheres pages\n",
    "hemispheres = [\"Cerberus\", \"Schiaparelli\", \"Syrtis\", \"Valles\"]\n",
    "soup_objects = []\n",
    "\n",
    "for hemisphere in hemispheres:\n",
    "    usgs_browser.links.find_by_partial_text(hemisphere).click()\n",
    "\n",
    "    # Scrape html code\n",
    "    usgs_html = usgs_browser.html    \n",
    "\n",
    "    # Create BeautifulSoup object; parse with 'html.parser'\n",
    "    usgs_soup = BeautifulSoup(usgs_html, \"html.parser\")\n",
    "\n",
    "    # Assign BeautifulSoup object to unique variable; print variable name\n",
    "    locals()[\"soup_\" + hemisphere] = usgs_soup\n",
    "\n",
    "    # Append soup object to list\n",
    "    soup_objects.append(locals()[\"soup_\" + hemisphere])\n",
    "                        \n",
    "    # Go back to previous page\n",
    "    usgs_browser.back()\n",
    "    \n",
    "usgs_browser.quit()"
   ]
  },
  {
   "cell_type": "code",
   "execution_count": 21,
   "id": "6dd0980a-17de-4862-8153-d4475f8d623f",
   "metadata": {
    "tags": []
   },
   "outputs": [],
   "source": [
    "# Find title and url for hemispheres images\n",
    "hemispheres_list = []\n",
    "\n",
    "for soup_object in soup_objects:\n",
    "\n",
    "    hemispheres_dict = {}\n",
    "\n",
    "    title = soup_object.find(\"h2\", class_=\"title\").text.replace(\" Enhanced\", \"\")\n",
    "    img_url = soup_object.find_all(\"a\", target=\"_blank\")[3][\"href\"]\n",
    "    \n",
    "    hemispheres_dict[\"title\"] = title\n",
    "    hemispheres_dict[\"img_url\"] = img_url\n",
    "    \n",
    "    hemispheres_list.append(hemispheres_dict)"
   ]
  },
  {
   "cell_type": "code",
   "execution_count": 23,
   "id": "ef50f0ba-4ea5-4809-b75f-df138bdc2805",
   "metadata": {
    "tags": []
   },
   "outputs": [],
   "source": [
    "mars_scrape_dict[\"hemispheres\"] = hemispheres_list"
   ]
  },
  {
   "cell_type": "code",
   "execution_count": 24,
   "id": "e46b648a-bd8d-48fb-b042-75a226519c5c",
   "metadata": {
    "tags": []
   },
   "outputs": [
    {
     "data": {
      "text/plain": [
       "{'article_title': \"NASA's Mars Fleet Lies Low with Sun Between Earth and Red Planet\",\n",
       " 'article_teaser': 'The missions will continue collecting data about the Red Planet, though engineers back on Earth will stop sending commands to them until mid-October.',\n",
       " 'featured_image': 'https://data-class-jpl-space.s3.amazonaws.com/JPL_Space/image/featured/mars3.jpg',\n",
       " 'table_html': '<table border=\"1\" class=\"dataframe\">  <thead>    <tr style=\"text-align: right;\">      <th></th>      <th>values</th>    </tr>    <tr>      <th></th>      <th></th>    </tr>  </thead>  <tbody>    <tr>      <th>Equatorial Diameter:</th>      <td>6,792 km</td>    </tr>    <tr>      <th>Polar Diameter:</th>      <td>6,752 km</td>    </tr>    <tr>      <th>Mass:</th>      <td>6.39 × 10^23 kg (0.11 Earths)</td>    </tr>    <tr>      <th>Moons:</th>      <td>2 (Phobos &amp; Deimos)</td>    </tr>    <tr>      <th>Orbit Distance:</th>      <td>227,943,824 km (1.38 AU)</td>    </tr>    <tr>      <th>Orbit Period:</th>      <td>687 days (1.9 years)</td>    </tr>    <tr>      <th>Surface Temperature:</th>      <td>-87 to -5 °C</td>    </tr>    <tr>      <th>First Record:</th>      <td>2nd millennium BC</td>    </tr>    <tr>      <th>Recorded By:</th>      <td>Egyptian astronomers</td>    </tr>  </tbody></table>',\n",
       " 'hemispheres': [{'title': 'Cerberus Hemisphere',\n",
       "   'img_url': 'https://astropedia.astrogeology.usgs.gov/download/Mars/Viking/cerberus_enhanced.tif/full.jpg'},\n",
       "  {'title': 'Schiaparelli Hemisphere',\n",
       "   'img_url': 'https://astropedia.astrogeology.usgs.gov/download/Mars/Viking/schiaparelli_enhanced.tif/full.jpg'},\n",
       "  {'title': 'Syrtis Major Hemisphere',\n",
       "   'img_url': 'https://astropedia.astrogeology.usgs.gov/download/Mars/Viking/syrtis_major_enhanced.tif/full.jpg'},\n",
       "  {'title': 'Valles Marineris Hemisphere',\n",
       "   'img_url': 'https://astropedia.astrogeology.usgs.gov/download/Mars/Viking/valles_marineris_enhanced.tif/full.jpg'}]}"
      ]
     },
     "execution_count": 24,
     "metadata": {},
     "output_type": "execute_result"
    }
   ],
   "source": [
    "mars_scrape_dict"
   ]
  }
 ],
 "metadata": {
  "kernelspec": {
   "display_name": "Python 3",
   "language": "python",
   "name": "python3"
  },
  "language_info": {
   "codemirror_mode": {
    "name": "ipython",
    "version": 3
   },
   "file_extension": ".py",
   "mimetype": "text/x-python",
   "name": "python",
   "nbconvert_exporter": "python",
   "pygments_lexer": "ipython3",
   "version": "3.8.8"
  }
 },
 "nbformat": 4,
 "nbformat_minor": 5
}
